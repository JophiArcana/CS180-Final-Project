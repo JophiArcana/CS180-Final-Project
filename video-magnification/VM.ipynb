{
 "cells": [
  {
   "cell_type": "code",
   "execution_count": 1,
   "metadata": {},
   "outputs": [
    {
     "ename": "ModuleNotFoundError",
     "evalue": "No module named 'cv2'",
     "output_type": "error",
     "traceback": [
      "\u001b[0;31m---------------------------------------------------------------------------\u001b[0m",
      "\u001b[0;31mModuleNotFoundError\u001b[0m                       Traceback (most recent call last)",
      "\u001b[1;32m/home/thienl/Documents/Berkeley/Fa23/CS180/CS180-Final-Project/video-magnification/VM.ipynb Cell 1\u001b[0m line \u001b[0;36m2\n\u001b[1;32m      <a href='vscode-notebook-cell:/home/thienl/Documents/Berkeley/Fa23/CS180/CS180-Final-Project/video-magnification/VM.ipynb#W0sZmlsZQ%3D%3D?line=0'>1</a>\u001b[0m \u001b[39mimport\u001b[39;00m \u001b[39mnumpy\u001b[39;00m \u001b[39mas\u001b[39;00m \u001b[39mnp\u001b[39;00m\n\u001b[0;32m----> <a href='vscode-notebook-cell:/home/thienl/Documents/Berkeley/Fa23/CS180/CS180-Final-Project/video-magnification/VM.ipynb#W0sZmlsZQ%3D%3D?line=1'>2</a>\u001b[0m \u001b[39mimport\u001b[39;00m \u001b[39mcv2\u001b[39;00m\n\u001b[1;32m      <a href='vscode-notebook-cell:/home/thienl/Documents/Berkeley/Fa23/CS180/CS180-Final-Project/video-magnification/VM.ipynb#W0sZmlsZQ%3D%3D?line=2'>3</a>\u001b[0m \u001b[39mfrom\u001b[39;00m \u001b[39mtqdm\u001b[39;00m \u001b[39mimport\u001b[39;00m tqdm\n\u001b[1;32m      <a href='vscode-notebook-cell:/home/thienl/Documents/Berkeley/Fa23/CS180/CS180-Final-Project/video-magnification/VM.ipynb#W0sZmlsZQ%3D%3D?line=3'>4</a>\u001b[0m \u001b[39mimport\u001b[39;00m \u001b[39mtorch\u001b[39;00m\n",
      "\u001b[0;31mModuleNotFoundError\u001b[0m: No module named 'cv2'"
     ]
    }
   ],
   "source": [
    "import numpy as np\n",
    "import cv2\n",
    "from tqdm import tqdm\n",
    "import torch\n",
    "import torch.nn as nn\n",
    "import matplotlib.pyplot as plt\n",
    "import imageio.v3 as iio\n",
    "from PIL import Image\n",
    "from scipy.signal import convolve2d, unit_impulse, butter"
   ]
  },
  {
   "cell_type": "code",
   "execution_count": null,
   "metadata": {},
   "outputs": [],
   "source": [
    "def pyrDown(image, kernel):\n",
    "    return cv2.filter2D(image, -1, kernel)[::2, ::2]\n",
    "\n",
    "\n",
    "def pyrUp(image, kernel, dst_shape=None):\n",
    "    dst_height = image.shape[0] + 1\n",
    "    dst_width = image.shape[1] + 1\n",
    "\n",
    "    if dst_shape is not None:\n",
    "        dst_height -= (dst_shape[0] % image.shape[0] != 0)\n",
    "        dst_width -= (dst_shape[1] % image.shape[1] != 0)\n",
    "\n",
    "    height_indexes = np.arange(1, dst_height)\n",
    "    width_indexes = np.arange(1, dst_width)\n",
    "\n",
    "    upsampled_image = np.insert(image, height_indexes, 0, axis=0)\n",
    "    upsampled_image = np.insert(upsampled_image, width_indexes, 0, axis=1)\n",
    "\n",
    "    return cv2.filter2D(upsampled_image, -1, 4 * kernel)\n",
    "\n",
    "\n",
    "def generate_laplacian_pyramid(im, depth=5, ksize=13, sigma=3):\n",
    "  G = cv2.getGaussianKernel(ksize, sigma)\n",
    "  G = np.outer(G, G)\n",
    "\n",
    "  pyramid = []\n",
    "  prev = im.copy()\n",
    "  while depth > 0:\n",
    "    down = downsample(im, ksize=ksize, sigma=sigma)\n",
    "    up = upsample(im)\n",
    "\n",
    "    lap = prev - up\n",
    "    pyramid.append(lap)\n",
    "    prev = down\n",
    "\n",
    "  return pyramid\n",
    "\n",
    "def filterLaplacianPyramids(pyramids,\n",
    "                            level,\n",
    "                            fps,\n",
    "                            freq_range,\n",
    "                            alpha,\n",
    "                            lambda_cutoff,\n",
    "                            attenuation):\n",
    "\n",
    "    filtered_pyramids = np.zeros_like(pyramids)\n",
    "    delta = lambda_cutoff / (8 * (1 + alpha))\n",
    "    b_low, a_low = butter(1, freq_range[0], btype='low', output='ba', fs=fps)\n",
    "    b_high, a_high = butter(1, freq_range[1], btype='low', output='ba', fs=fps)\n",
    "\n",
    "    lowpass = pyramids[0]\n",
    "    highpass = pyramids[0]\n",
    "    filtered_pyramids[0] = pyramids[0]\n",
    "\n",
    "    for i in tqdm.tqdm(range(1, pyramids.shape[0]),\n",
    "                       ascii=True,\n",
    "                       desc=\"Laplacian Pyramids Filtering\"):\n",
    "\n",
    "        lowpass = (-a_low[1] * lowpass\n",
    "                   + b_low[0] * pyramids[i]\n",
    "                   + b_low[1] * pyramids[i - 1]) / a_low[0]\n",
    "        highpass = (-a_high[1] * highpass\n",
    "                    + b_high[0] * pyramids[i]\n",
    "                    + b_high[1] * pyramids[i - 1]) / a_high[0]\n",
    "\n",
    "        filtered_pyramids[i] = highpass - lowpass\n",
    "\n",
    "        for lvl in range(1, level - 1):\n",
    "            (height, width, _) = filtered_pyramids[i, lvl].shape\n",
    "            lambd = ((height ** 2) + (width ** 2)) ** 0.5\n",
    "            new_alpha = (lambd / (8 * delta)) - 1\n",
    "\n",
    "            filtered_pyramids[i, lvl] *= min(alpha, new_alpha)\n",
    "            filtered_pyramids[i, lvl][:, :, 1:] *= attenuation\n",
    "\n",
    "    return filtered_pyramids\n",
    "\n",
    "def reconstruction_laplacian(pyramid):\n",
    "\n",
    "    for level in range(1, pyramid.shape[0] - 1):\n",
    "        tmp = pyramid[level]\n",
    "        for curr_level in range(level):\n",
    "            tmp = pyrUp(tmp, kernel, pyramid[level - curr_level - 1].shape[:2])\n",
    "        reconstructed_image += tmp.astype(np.float32)\n",
    "\n",
    "    reconstructed_image = yiq2rgb(reconstructed_image)\n",
    "    reconstructed_image = np.clip(reconstructed_image, 0, 255)\n"
   ]
  },
  {
   "cell_type": "code",
   "execution_count": 2,
   "metadata": {},
   "outputs": [
    {
     "ename": "NameError",
     "evalue": "name 'iio' is not defined",
     "output_type": "error",
     "traceback": [
      "\u001b[0;31m---------------------------------------------------------------------------\u001b[0m",
      "\u001b[0;31mNameError\u001b[0m                                 Traceback (most recent call last)",
      "\u001b[1;32m/home/thienl/Documents/Berkeley/Fa23/CS180/CS180-Final-Project/video-magnification/VM.ipynb Cell 3\u001b[0m line \u001b[0;36m1\n\u001b[0;32m----> <a href='vscode-notebook-cell:/home/thienl/Documents/Berkeley/Fa23/CS180/CS180-Final-Project/video-magnification/VM.ipynb#W2sZmlsZQ%3D%3D?line=0'>1</a>\u001b[0m baby \u001b[39m=\u001b[39m np\u001b[39m.\u001b[39marray(iio\u001b[39m.\u001b[39mimread(\u001b[39m\"\u001b[39m\u001b[39mbaby2.mp4\u001b[39m\u001b[39m\"\u001b[39m))\n",
      "\u001b[0;31mNameError\u001b[0m: name 'iio' is not defined"
     ]
    }
   ],
   "source": [
    "baby = np.array(iio.imread(\"baby2.mp4\"))"
   ]
  },
  {
   "cell_type": "code",
   "execution_count": null,
   "metadata": {},
   "outputs": [],
   "source": []
  }
 ],
 "metadata": {
  "kernelspec": {
   "display_name": "DiffuserCam",
   "language": "python",
   "name": "python3"
  },
  "language_info": {
   "codemirror_mode": {
    "name": "ipython",
    "version": 3
   },
   "file_extension": ".py",
   "mimetype": "text/x-python",
   "name": "python",
   "nbconvert_exporter": "python",
   "pygments_lexer": "ipython3",
   "version": "3.11.3"
  }
 },
 "nbformat": 4,
 "nbformat_minor": 2
}
