{
  "cells": [
    {
      "cell_type": "code",
      "execution_count": 1,
      "metadata": {
        "id": "B9DLmHu0gp7B"
      },
      "outputs": [],
      "source": [
        "import numpy as np\n",
        "import cv2\n",
        "import tqdm\n",
        "import matplotlib.pyplot as plt\n",
        "import imageio.v3 as iio\n",
        "import imageio\n",
        "from PIL import Image\n",
        "from scipy.signal import convolve2d, unit_impulse, butter, filtfilt"
      ]
    },
    {
      "cell_type": "code",
      "execution_count": 2,
      "metadata": {
        "id": "FTYkSv3kj6w7"
      },
      "outputs": [],
      "source": [
        "dtype=np.float32"
      ]
    },
    {
      "cell_type": "markdown",
      "metadata": {
        "id": "-hxA7jWtVdOk"
      },
      "source": [
        "# Part 1: Laplacian Pyramids"
      ]
    },
    {
      "cell_type": "code",
      "execution_count": 3,
      "metadata": {
        "id": "GJaWF3TfVboO"
      },
      "outputs": [],
      "source": [
        "G = cv2.getGaussianKernel(13, 3)\n",
        "gaussian_kernel = np.outer(G, G)\n",
        "\n",
        "yiq_from_rgb = (\n",
        "    np.array(\n",
        "            [\n",
        "                [0.29900000,  0.58700000,  0.11400000],\n",
        "                [0.59590059, -0.27455667, -0.32134392],\n",
        "                [0.21153661, -0.52273617,  0.31119955]\n",
        "            ]\n",
        "        )\n",
        "    ).astype(dtype)\n",
        "\n",
        "\n",
        "rgb_from_yiq = np.linalg.inv(yiq_from_rgb)\n",
        "\n",
        "def rgb2yiq(im):\n",
        "    im = im.astype(dtype)\n",
        "    return im @ yiq_from_rgb.T\n",
        "\n",
        "def yiq2rgb(im):\n",
        "    im = im.astype(dtype)\n",
        "    return im @ rgb_from_yiq.T\n",
        "\n",
        "def downSample(im, kernel):\n",
        "    return cv2.filter2D(im, -1, kernel)[::2, ::2] # Choose every 2\n",
        "\n",
        "def upSample(im, kernel, shape=None):\n",
        "    height = im.shape[0] + 1\n",
        "    width = im.shape[1] + 1\n",
        "\n",
        "    if shape:\n",
        "        height -= (shape[0] % im.shape[0] != 0)\n",
        "        width -= (shape[1] % im.shape[1] != 0)\n",
        "\n",
        "    h, w = np.arange(1, height), np.arange(1, width)\n",
        "\n",
        "    up = np.insert(im, h, 0, axis=0)\n",
        "    up = np.insert(up, w, 0, axis=1)\n",
        "\n",
        "    return cv2.filter2D(up, -1, 4 * kernel)\n",
        "\n",
        "def generateLP(im, kernel, depth):\n",
        "    laplacian_pyramid = []\n",
        "    prev = im.copy()\n",
        "\n",
        "    for i in range(depth):\n",
        "        down = downSample(prev, kernel)\n",
        "        up = upSample(down, kernel, prev.shape[:2])\n",
        "        laplacian_pyramid.append(prev - up)\n",
        "        prev = down\n",
        "\n",
        "    return laplacian_pyramid\n",
        "\n",
        "\n",
        "def getLPs(images, kernel, depth):\n",
        "    laplacian_pyramids = []\n",
        "\n",
        "    for im in tqdm.tqdm(images, desc=\"Generating Pyramids...\"):\n",
        "        laplacian_pyramid = generateLP(rgb2yiq(im), kernel, depth)\n",
        "        laplacian_pyramids.append(laplacian_pyramid)\n",
        "\n",
        "    return np.asarray(laplacian_pyramids, dtype='object')"
      ]
    },
    {
      "cell_type": "markdown",
      "metadata": {
        "id": "IcivsGAZVg78"
      },
      "source": [
        "# Part 2 + 3: Temporal Filtering + Magnification"
      ]
    },
    {
      "cell_type": "code",
      "execution_count": 4,
      "metadata": {
        "id": "hh1M9yYDm57O"
      },
      "outputs": [],
      "source": [
        "def apply_filter(curr, a, b, p1, p2):\n",
        "  a_den, a_num = a\n",
        "  b_den, b_num = b\n",
        "  return (-a_num * curr)/a_den + (b_num*p1)/a_den + (b_den*p2)/a_den"
      ]
    },
    {
      "cell_type": "code",
      "execution_count": 5,
      "metadata": {
        "id": "PLcDyaCJl8Nt"
      },
      "outputs": [],
      "source": [
        "def filterLPs(pyramids, depth, fps, freq_range, alpha, attenuation):\n",
        "    filtered = np.zeros_like(pyramids)\n",
        "    b_low, a_low = butter(1, freq_range[0], btype='low', output='ba', fs=fps)\n",
        "    b_high, a_high = butter(1, freq_range[1], btype='low', output='ba', fs=fps)\n",
        "\n",
        "    low = pyramids[0]\n",
        "    high = pyramids[0]\n",
        "    filtered[0] = pyramids[0]\n",
        "\n",
        "    for i in tqdm.tqdm(range(1, pyramids.shape[0]), desc=\"Filtering Pyramids...\"):\n",
        "        low = apply_filter(low, a_low, b_low, pyramids[i], pyramids[i-1])\n",
        "        high = apply_filter(high, a_high, b_high, pyramids[i], pyramids[i-1])\n",
        "        filtered[i] = high - low\n",
        "\n",
        "        for d in range(1, depth - 1):\n",
        "            filtered[i, d] *= alpha\n",
        "            filtered[i, d][:, :, 1:] *= attenuation\n",
        "\n",
        "    return filtered"
      ]
    },
    {
      "cell_type": "markdown",
      "metadata": {
        "id": "CXRFNmjVVnyJ"
      },
      "source": [
        "# Part 4: Image Reconstruction"
      ]
    },
    {
      "cell_type": "code",
      "execution_count": 6,
      "metadata": {
        "id": "lACGRlGhVrIs"
      },
      "outputs": [],
      "source": [
        "def reconstructLP(image, pyramid, kernel):\n",
        "    reconstructed_image = image.astype(dtype)\n",
        "\n",
        "    for d in range(1, pyramid.shape[0] - 1):\n",
        "        # Get Laplacian Layer\n",
        "        tmp = pyramid[d]\n",
        "        # Upscale Layer to size of reconstruction\n",
        "        for ld in range(d):\n",
        "            tmp = upSample(tmp, kernel, pyramid[d-ld-1].shape[:2])\n",
        "        reconstructed_image += tmp.astype(dtype)\n",
        "    reconstructed_image = np.clip(reconstructed_image, 0, 255)\n",
        "    return reconstructed_image.astype(np.uint8)\n",
        "\n",
        "def getVideo(ims, filtered, kernel):\n",
        "    vid = []\n",
        "    for i in tqdm.tqdm(range(ims.shape[0]), desc=\"Reconstructing...\"):\n",
        "        vid.append(reconstructLP(ims[i], filtered[i], kernel))\n",
        "    return vid"
      ]
    },
    {
      "cell_type": "code",
      "execution_count": 7,
      "metadata": {
        "id": "3eEWDsTxSQy9"
      },
      "outputs": [],
      "source": [
        "def amplify(name, fps, freqs, alpha, attenuation, out, reduce=False):\n",
        "  video = iio.imread(f\"{name}.mp4\")\n",
        "  if reduce:\n",
        "    tmp = []\n",
        "    for i in range(len(video)):\n",
        "      tmp.append(cv2.resize(video[i], (video[i].shape[1]//2, video[i].shape[0]//2), interpolation = cv2.INTER_LINEAR))\n",
        "    video = np.array(tmp)\n",
        "  pyramids =  getLPs(video, gaussian_kernel, 3)\n",
        "  filtered = filterLPs(pyramids, 3, fps, freqs, alpha, attenuation)\n",
        "  attenuated = getVideo(video, filtered, gaussian_kernel)\n",
        "  writer = imageio.get_writer(f\"{out}.mp4\", fps=fps)\n",
        "  for im in attenuated:\n",
        "      # im is numpy array\n",
        "      writer.append_data(im)\n",
        "  writer.close()"
      ]
    },
    {
      "cell_type": "code",
      "execution_count": 13,
      "metadata": {
        "colab": {
          "base_uri": "https://localhost:8080/"
        },
        "id": "uWF24FWzaaKf",
        "outputId": "9b6a4177-08ad-482d-adad-736d0392a9fb"
      },
      "outputs": [
        {
          "name": "stderr",
          "output_type": "stream",
          "text": [
            "Generating Pyramids...: 100%|██████████| 301/301 [00:25<00:00, 11.91it/s]\n",
            "Filtering Pyramids...: 100%|██████████| 300/300 [00:06<00:00, 48.74it/s]\n",
            "Reconstructing...: 100%|██████████| 301/301 [00:09<00:00, 30.32it/s]\n",
            "Generating Pyramids...: 100%|██████████| 301/301 [00:22<00:00, 13.57it/s]\n",
            "Filtering Pyramids...: 100%|██████████| 300/300 [00:05<00:00, 51.14it/s]\n",
            "Reconstructing...: 100%|██████████| 301/301 [00:09<00:00, 31.72it/s]\n",
            "Generating Pyramids...: 100%|██████████| 301/301 [00:24<00:00, 12.26it/s]\n",
            "Filtering Pyramids...: 100%|██████████| 300/300 [00:06<00:00, 44.57it/s]\n",
            "Reconstructing...: 100%|██████████| 301/301 [00:09<00:00, 31.48it/s]\n"
          ]
        }
      ],
      "source": [
        "amplify(\"data/face\", 30, [0.83, 1], 100, 1, \"results/face_mag\", reduce=False)\n",
        "amplify(\"data/face\", 30, [0.2, 5.0], 100, 1, \"results/face_mag2\", reduce=False)\n",
        "amplify(\"data/face\", 30, [0.83, 14.0], 200, 2, \"results/face_mag3\", reduce=False)"
      ]
    },
    {
      "cell_type": "code",
      "execution_count": 14,
      "metadata": {
        "id": "_YBELLpaUuPf"
      },
      "outputs": [
        {
          "name": "stderr",
          "output_type": "stream",
          "text": [
            "Generating Pyramids...: 100%|██████████| 900/900 [00:12<00:00, 72.54it/s]\n",
            "Filtering Pyramids...: 100%|██████████| 899/899 [00:02<00:00, 327.09it/s]\n",
            "Reconstructing...: 100%|██████████| 900/900 [00:04<00:00, 180.65it/s]\n",
            "Generating Pyramids...: 100%|██████████| 900/900 [00:12<00:00, 74.36it/s]\n",
            "Filtering Pyramids...: 100%|██████████| 899/899 [00:02<00:00, 305.91it/s]\n",
            "Reconstructing...: 100%|██████████| 900/900 [00:05<00:00, 159.75it/s]\n",
            "Generating Pyramids...: 100%|██████████| 900/900 [00:12<00:00, 72.76it/s]\n",
            "Filtering Pyramids...: 100%|██████████| 899/899 [00:02<00:00, 301.01it/s]\n",
            "Reconstructing...: 100%|██████████| 900/900 [00:05<00:00, 171.71it/s]\n"
          ]
        }
      ],
      "source": [
        "amplify(\"data/baby2\", 30, [2.33, 2.67], 150, 1, \"results/baby2_mag\",reduce=True)\n",
        "amplify(\"data/baby2\", 30, [0.2, 5.0], 100, 1, \"results/baby2_mag2\",reduce=True)\n",
        "amplify(\"data/baby2\", 30, [0.83, 14.0], 200, 2, \"results/baby2_mag3\",reduce=True)"
      ]
    },
    {
      "cell_type": "code",
      "execution_count": 22,
      "metadata": {
        "id": "rZW4l5OKV3E5"
      },
      "outputs": [
        {
          "name": "stderr",
          "output_type": "stream",
          "text": [
            "Generating Pyramids...: 100%|██████████| 894/894 [00:13<00:00, 68.44it/s]\n",
            "Filtering Pyramids...: 100%|██████████| 893/893 [00:02<00:00, 328.64it/s]\n",
            "Reconstructing...: 100%|██████████| 894/894 [00:05<00:00, 169.95it/s]\n",
            "Generating Pyramids...: 100%|██████████| 894/894 [00:12<00:00, 73.56it/s]\n",
            "Filtering Pyramids...: 100%|██████████| 893/893 [00:02<00:00, 341.94it/s]\n",
            "Reconstructing...: 100%|██████████| 894/894 [00:05<00:00, 174.50it/s]\n",
            "Generating Pyramids...: 100%|██████████| 894/894 [00:11<00:00, 77.36it/s]\n",
            "Filtering Pyramids...: 100%|██████████| 893/893 [00:02<00:00, 313.98it/s]\n",
            "Reconstructing...: 100%|██████████| 894/894 [00:05<00:00, 172.74it/s]\n"
          ]
        }
      ],
      "source": [
        "amplify(\"data/wrist\", 30, [0.4, 3.0], 10, 1, \"results/wrist_mag\",reduce=True)\n",
        "amplify(\"data/wrist\", 30, [0.2, 5.0], 100, 1, \"results/wrist_mag2\",reduce=True)\n",
        "amplify(\"data/wrist\", 30, [0.83, 14.0], 200, 2, \"results/wrist_mag3\",reduce=True)"
      ]
    },
    {
      "cell_type": "markdown",
      "metadata": {
        "id": "Q7nw0zBAWReP"
      },
      "source": [
        "# Bells and Whistles"
      ]
    },
    {
      "cell_type": "code",
      "execution_count": 16,
      "metadata": {
        "id": "IB2SkCL6WZYS"
      },
      "outputs": [
        {
          "name": "stderr",
          "output_type": "stream",
          "text": [
            "Generating Pyramids...: 100%|██████████| 301/301 [00:07<00:00, 39.73it/s]\n",
            "Filtering Pyramids...: 100%|██████████| 300/300 [00:01<00:00, 219.89it/s]\n",
            "Reconstructing...: 100%|██████████| 301/301 [00:03<00:00, 79.88it/s]\n"
          ]
        }
      ],
      "source": [
        "video = iio.imread(f\"data/face.mp4\")\n",
        "tmp = []\n",
        "for i in range(len(video)):\n",
        "  tmp.append(cv2.resize(video[i], (video[i].shape[1]//2, video[i].shape[0]//2), interpolation = cv2.INTER_LINEAR))\n",
        "video = np.array(tmp)\n",
        "pyramids =  getLPs(video, gaussian_kernel, 3)\n",
        "filtered = filterLPs(pyramids, 3, 30, [0.83, 1], 100, 1)\n",
        "attenuated = getVideo(video, filtered, gaussian_kernel)"
      ]
    },
    {
      "cell_type": "code",
      "execution_count": 17,
      "metadata": {
        "id": "6vXyGdMqOqmS"
      },
      "outputs": [],
      "source": [
        "pixel_series = np.array([pyramids[:,0][i][0,0] for i in range(len(video))])\n",
        "fft_result = np.fft.fft(pixel_series[:,0])"
      ]
    },
    {
      "cell_type": "code",
      "execution_count": 18,
      "metadata": {
        "id": "S9mkwzQfP6fZ"
      },
      "outputs": [
        {
          "name": "stderr",
          "output_type": "stream",
          "text": [
            "/home/thienl/anaconda3/envs/DiffuserCam/lib/python3.11/site-packages/matplotlib/cbook.py:1699: ComplexWarning: Casting complex values to real discards the imaginary part\n",
            "  return math.isfinite(val)\n",
            "/home/thienl/anaconda3/envs/DiffuserCam/lib/python3.11/site-packages/matplotlib/cbook.py:1345: ComplexWarning: Casting complex values to real discards the imaginary part\n",
            "  return np.asarray(x, float)\n"
          ]
        },
        {
          "data": {
            "image/png": "[encoded data removed]",
            "text/plain": [
              "<Figure size 640x480 with 1 Axes>"
            ]
          },
          "metadata": {},
          "output_type": "display_data"
        }
      ],
      "source": [
        "time_step = 1  # assuming the time step between samples is 1\n",
        "frequencies = np.fft.fftfreq(len(pixel_series), time_step)\n",
        "\n",
        "# Plot the magnitude of the FFT result\n",
        "plt.plot(frequencies, fft_result)\n",
        "plt.title('FFT of Pixel over Time')\n",
        "plt.xlabel('Frequency (Hz)')\n",
        "plt.ylabel('Magnitude')\n",
        "plt.show()"
      ]
    },
    {
      "cell_type": "code",
      "execution_count": 19,
      "metadata": {
        "id": "Zg0P9Z1-fXLk"
      },
      "outputs": [],
      "source": [
        "# Check Frequencies of Layer 1 at (0, 0)\n",
        "pixel_series = np.array([filtered[:,1][i][0,0] for i in range(len(video))])\n",
        "fft_result = np.fft.fft(pixel_series[:,0])"
      ]
    },
    {
      "cell_type": "code",
      "execution_count": 20,
      "metadata": {
        "id": "1xpb70yGP_D3"
      },
      "outputs": [
        {
          "data": {
            "image/png": "[encoded data removed]",
            "text/plain": [
              "<Figure size 640x480 with 1 Axes>"
            ]
          },
          "metadata": {},
          "output_type": "display_data"
        }
      ],
      "source": [
        "frequencies = np.fft.fftfreq(len(pixel_series), 1)\n",
        "\n",
        "# Plot the magnitude of the FFT result\n",
        "plt.plot(frequencies, fft_result)\n",
        "plt.title('FFT of Pixel over Time')\n",
        "plt.xlabel('Frequency (Hz)')\n",
        "plt.ylabel('Magnitude')\n",
        "plt.show()"
      ]
    },
    {
      "cell_type": "code",
      "execution_count": 24,
      "metadata": {
        "id": "5hKQD1XBfR_K"
      },
      "outputs": [
        {
          "name": "stderr",
          "output_type": "stream",
          "text": [
            "Generating Pyramids...: 100%|██████████| 301/301 [00:09<00:00, 32.10it/s]\n",
            "Filtering Pyramids...: 100%|██████████| 300/300 [00:02<00:00, 124.08it/s]\n",
            "Reconstructing...: 100%|██████████| 301/301 [00:04<00:00, 74.81it/s]\n"
          ]
        }
      ],
      "source": [
        "amplify(\"data/baby\", 30, [0.3, 1.0], 300, 2, \"results/baby_mag\",reduce=True)"
      ]
    },
    {
      "cell_type": "code",
      "execution_count": null,
      "metadata": {
        "id": "8tF9GtiojmIT"
      },
      "outputs": [],
      "source": []
    }
  ],
  "metadata": {
    "colab": {
      "provenance": []
    },
    "kernelspec": {
      "display_name": "Python 3",
      "name": "python3"
    },
    "language_info": {
      "codemirror_mode": {
        "name": "ipython",
        "version": 3
      },
      "file_extension": ".py",
      "mimetype": "text/x-python",
      "name": "python",
      "nbconvert_exporter": "python",
      "pygments_lexer": "ipython3",
      "version": "3.11.3"
    }
  },
  "nbformat": 4,
  "nbformat_minor": 0
}
