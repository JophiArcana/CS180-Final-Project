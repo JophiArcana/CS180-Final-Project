{
 "cells": [
  {
   "cell_type": "code",
   "execution_count": 1,
   "metadata": {
    "id": "QupgVmcZgvyx"
   },
   "outputs": [],
   "source": [
    "## Created by Wentinn Liao"
   ]
  },
  {
   "cell_type": "markdown",
   "metadata": {
    "id": "k722vkzdWafR"
   },
   "source": [
    "# CS180 Final Project: Eulerian Video Magnification"
   ]
  },
  {
   "cell_type": "code",
   "execution_count": 2,
   "metadata": {
    "id": "9pbdKYaruWiD"
   },
   "outputs": [],
   "source": [
    "#@title Configure Jupyter Notebook\n",
    "%load_ext autoreload\n",
    "%autoreload 2"
   ]
  },
  {
   "cell_type": "code",
   "execution_count": 3,
   "metadata": {
    "colab": {
     "base_uri": "https://localhost:8080/",
     "height": 406
    },
    "id": "uK2SmUy3uWiD",
    "outputId": "c1f1c997-17d2-4312-edf0-970abe258615"
   },
   "outputs": [],
   "source": [
    "#@title Library Setup\n",
    "import base64\n",
    "import io\n",
    "import math\n",
    "import numpy as np\n",
    "import os\n",
    "import scipy as sc\n",
    "import skimage as sk\n",
    "import skimage.io as skio\n",
    "import cv2\n",
    "import torch\n",
    "from typing import *\n",
    "from matplotlib import pyplot as plt\n",
    "from IPython.display import HTML\n",
    "from IPython import display as ipythondisplay"
   ]
  },
  {
   "cell_type": "code",
   "execution_count": 4,
   "metadata": {
    "id": "ZrE7RRVs886O"
   },
   "outputs": [],
   "source": [
    "#@title Utilities\n",
    "def read_image(imname: str) -> torch.Tensor:\n",
    "    return torch.IntTensor(skio.imread(imname))\n",
    "    # return sk.img_as_float(np.array(img.convert('RGBA')))\n",
    "\n",
    "def im_rescale(im):\n",
    "    lo = torch.min(im)\n",
    "    hi = torch.max(im)\n",
    "    return (im - lo) / (hi - lo)\n",
    "\n",
    "def im_saturate(im):\n",
    "    return torch.stack([im_rescale(im[:, :, c]) for c in range(im.shape[2])], dim=2)\n",
    "\n",
    "def multiply_outer(v: np.ndarray, arr: np.ndarray, axis=None):\n",
    "    if axis is None:\n",
    "        axis = v.ndim\n",
    "    arr_ = arr.transpose(*range(axis, arr.ndim), *range(axis))\n",
    "    return (arr_ * v).transpose(*range(arr.ndim - axis, arr.ndim), *range(arr.ndim - axis))\n",
    "\n",
    "def plot_cycle(ax, points: np.ndarray, **kwargs):\n",
    "    cycled_points = np.vstack([points, points[:1]])\n",
    "    ax.plot(*cycled_points.T, **kwargs)\n",
    "\n",
    "def show_video(video_name: str):\n",
    "    if os.path.exists(video_name):\n",
    "        video = io.open(video_name, 'r+b').read()\n",
    "        encoded = base64.b64encode(video)\n",
    "        ipythondisplay.display(HTML(data='''<video alt=\"test\" autoplay\n",
    "            loop controls style=\"height: 400px;\">\n",
    "            <source src=\"data:video/mp4;base64,{0}\" type=\"video/mp4\" />\n",
    "        </video>'''.format(encoded.decode('ascii'))))\n",
    "    else:\n",
    "        print(\"Could not find video\")\n",
    "\n",
    "def color(z: float, scale: float=120.) -> np.ndarray:\n",
    "    k = 2 * np.pi * z / scale\n",
    "    return (1 + np.asarray([np.sin(k), np.sin(k + 2 * np.pi / 3), np.sin(k + 4 * np.pi / 3)], dtype=float)) / 2"
   ]
  },
  {
   "cell_type": "code",
   "source": [
    "import time\n",
    "\n",
    "class Timer(object):\n",
    "    indent = 0\n",
    "    p = False\n",
    "\n",
    "    def __init__(self):\n",
    "        self.start_t = 0\n",
    "\n",
    "    def start(self, name):\n",
    "        if Timer.p:\n",
    "            print('\\t' * Timer.indent + name + ' {')\n",
    "            Timer.indent += 1\n",
    "        self.start_t = time.time_ns()\n",
    "\n",
    "    def stop(self):\n",
    "        if Timer.p:\n",
    "            Timer.indent -= 1\n",
    "            print('\\t' * Timer.indent + '} ' + f'{(time.time_ns() - self.start_t) * 1e-6}ms,')\n",
    "        # return time.time_ns() - self.start_t"
   ],
   "metadata": {
    "id": "07tXktty9tHn"
   },
   "execution_count": 5,
   "outputs": []
  },
  {
   "cell_type": "markdown",
   "metadata": {
    "id": "g1x42pGm7aOF"
   },
   "source": [
    "# Part 1. Laplacian Pyramid"
   ]
  },
  {
   "cell_type": "code",
   "execution_count": 8,
   "outputs": [],
   "source": [
    "\"\"\"\n",
    "baby2.mp4: 900 frames\n",
    "face.mp4: 301 frames\n",
    "\"\"\"\n",
    "def read_video_cv2(video_name: str, n_frames: int) -> np.ndarray:\n",
    "    cap = cv2.VideoCapture(video_name)\n",
    "    result, i = [], 0\n",
    "    while cap.isOpened() and i < n_frames:\n",
    "        result.append(np.array(cap.read()[1]))\n",
    "        i += 1\n",
    "    return np.array(result) / 255.\n",
    "\n",
    "baby2 = read_video_cv2('data/baby2.mp4', 900)\n",
    "face = read_video_cv2('data/face.mp4', 301)"
   ],
   "metadata": {
    "collapsed": false,
    "pycharm": {
     "name": "#%%\n"
    }
   }
  },
  {
   "cell_type": "code",
   "execution_count": 11,
   "outputs": [
    {
     "ename": "ValueError",
     "evalue": "only a single channel axis is currently supported",
     "output_type": "error",
     "traceback": [
      "\u001B[0;31m---------------------------------------------------------------------------\u001B[0m",
      "\u001B[0;31mValueError\u001B[0m                                Traceback (most recent call last)",
      "\u001B[0;32m/var/folders/96/mqhtth294kvbh5g8wd6by00w0000gn/T/ipykernel_11514/1052268628.py\u001B[0m in \u001B[0;36m<module>\u001B[0;34m\u001B[0m\n\u001B[0;32m----> 1\u001B[0;31m \u001B[0msk\u001B[0m\u001B[0;34m.\u001B[0m\u001B[0mtransform\u001B[0m\u001B[0;34m.\u001B[0m\u001B[0mrescale\u001B[0m\u001B[0;34m(\u001B[0m\u001B[0mbaby2\u001B[0m\u001B[0;34m,\u001B[0m \u001B[0;36m0.5\u001B[0m\u001B[0;34m,\u001B[0m \u001B[0mchannel_axis\u001B[0m\u001B[0;34m=\u001B[0m\u001B[0;34m(\u001B[0m\u001B[0;36m0\u001B[0m\u001B[0;34m,\u001B[0m \u001B[0;34m-\u001B[0m\u001B[0;36m1\u001B[0m\u001B[0;34m)\u001B[0m\u001B[0;34m)\u001B[0m\u001B[0;34m.\u001B[0m\u001B[0mshape\u001B[0m\u001B[0;34m\u001B[0m\u001B[0;34m\u001B[0m\u001B[0m\n\u001B[0m",
      "\u001B[0;32m~/opt/anaconda3/lib/python3.9/site-packages/skimage/_shared/utils.py\u001B[0m in \u001B[0;36mfixed_func\u001B[0;34m(*args, **kwargs)\u001B[0m\n\u001B[1;32m    322\u001B[0m                 \u001B[0mchannel_axis\u001B[0m \u001B[0;34m=\u001B[0m \u001B[0;34m(\u001B[0m\u001B[0mchannel_axis\u001B[0m\u001B[0;34m,\u001B[0m\u001B[0;34m)\u001B[0m\u001B[0;34m\u001B[0m\u001B[0;34m\u001B[0m\u001B[0m\n\u001B[1;32m    323\u001B[0m             \u001B[0;32mif\u001B[0m \u001B[0mlen\u001B[0m\u001B[0;34m(\u001B[0m\u001B[0mchannel_axis\u001B[0m\u001B[0;34m)\u001B[0m \u001B[0;34m>\u001B[0m \u001B[0;36m1\u001B[0m\u001B[0;34m:\u001B[0m\u001B[0;34m\u001B[0m\u001B[0;34m\u001B[0m\u001B[0m\n\u001B[0;32m--> 324\u001B[0;31m                 raise ValueError(\n\u001B[0m\u001B[1;32m    325\u001B[0m                     \"only a single channel axis is currently supported\")\n\u001B[1;32m    326\u001B[0m \u001B[0;34m\u001B[0m\u001B[0m\n",
      "\u001B[0;31mValueError\u001B[0m: only a single channel axis is currently supported"
     ]
    }
   ],
   "source": [
    "sk.transform.rescale(baby2, 0.5, channel_axis=(0, -1)).shape"
   ],
   "metadata": {
    "collapsed": false,
    "pycharm": {
     "name": "#%%\n"
    }
   }
  },
  {
   "cell_type": "code",
   "execution_count": 9,
   "outputs": [],
   "source": [
    "def gaussian_and_laplacian_stack(vid: np.ndarray, depth=8, sigma=1):\n",
    "    gaussian_stack, laplacian_stack = [vid], []\n",
    "    for _ in range(depth + 1):\n",
    "        k = int(math.ceil(3 * sigma))\n",
    "        G = ((G := cv2.getGaussianKernel(2 * k + 1, sigma)) @ G.T)[None, :, :, None]\n",
    "\n",
    "        gaussian_stack.append(sc.signal.convolve(gaussian_stack[-1], G, mode='same'))\n",
    "        laplacian_stack.append(gaussian_stack[-2] - gaussian_stack[-1])\n",
    "\n",
    "        sigma *= 2\n",
    "    gaussian_stack.pop()\n",
    "    return gaussian_stack, laplacian_stack"
   ],
   "metadata": {
    "collapsed": false,
    "pycharm": {
     "name": "#%%\n"
    }
   }
  },
  {
   "cell_type": "code",
   "execution_count": 10,
   "outputs": [
    {
     "name": "stdout",
     "output_type": "stream",
     "text": [
      "(900, 352, 640, 3) (1, 7, 7, 1)\n",
      "(900, 352, 640, 3) (1, 13, 13, 1)\n"
     ]
    },
    {
     "ename": "KeyboardInterrupt",
     "evalue": "",
     "output_type": "error",
     "traceback": [
      "\u001B[0;31m---------------------------------------------------------------------------\u001B[0m",
      "\u001B[0;31mKeyboardInterrupt\u001B[0m                         Traceback (most recent call last)",
      "\u001B[0;32m/var/folders/96/mqhtth294kvbh5g8wd6by00w0000gn/T/ipykernel_11514/383006393.py\u001B[0m in \u001B[0;36m<module>\u001B[0;34m\u001B[0m\n\u001B[0;32m----> 1\u001B[0;31m \u001B[0mg\u001B[0m\u001B[0;34m,\u001B[0m \u001B[0ml\u001B[0m \u001B[0;34m=\u001B[0m \u001B[0mgaussian_and_laplacian_stack\u001B[0m\u001B[0;34m(\u001B[0m\u001B[0mbaby2\u001B[0m\u001B[0;34m)\u001B[0m\u001B[0;34m\u001B[0m\u001B[0;34m\u001B[0m\u001B[0m\n\u001B[0m",
      "\u001B[0;32m/var/folders/96/mqhtth294kvbh5g8wd6by00w0000gn/T/ipykernel_11514/2079497287.py\u001B[0m in \u001B[0;36mgaussian_and_laplacian_stack\u001B[0;34m(vid, depth, sigma)\u001B[0m\n\u001B[1;32m      7\u001B[0m         \u001B[0mprint\u001B[0m\u001B[0;34m(\u001B[0m\u001B[0mgaussian_stack\u001B[0m\u001B[0;34m[\u001B[0m\u001B[0;34m-\u001B[0m\u001B[0;36m1\u001B[0m\u001B[0;34m]\u001B[0m\u001B[0;34m.\u001B[0m\u001B[0mshape\u001B[0m\u001B[0;34m,\u001B[0m \u001B[0mG\u001B[0m\u001B[0;34m.\u001B[0m\u001B[0mshape\u001B[0m\u001B[0;34m)\u001B[0m\u001B[0;34m\u001B[0m\u001B[0;34m\u001B[0m\u001B[0m\n\u001B[1;32m      8\u001B[0m \u001B[0;34m\u001B[0m\u001B[0m\n\u001B[0;32m----> 9\u001B[0;31m         \u001B[0mgaussian_stack\u001B[0m\u001B[0;34m.\u001B[0m\u001B[0mappend\u001B[0m\u001B[0;34m(\u001B[0m\u001B[0msc\u001B[0m\u001B[0;34m.\u001B[0m\u001B[0msignal\u001B[0m\u001B[0;34m.\u001B[0m\u001B[0mconvolve\u001B[0m\u001B[0;34m(\u001B[0m\u001B[0mgaussian_stack\u001B[0m\u001B[0;34m[\u001B[0m\u001B[0;34m-\u001B[0m\u001B[0;36m1\u001B[0m\u001B[0;34m]\u001B[0m\u001B[0;34m,\u001B[0m \u001B[0mG\u001B[0m\u001B[0;34m,\u001B[0m \u001B[0mmode\u001B[0m\u001B[0;34m=\u001B[0m\u001B[0;34m'same'\u001B[0m\u001B[0;34m)\u001B[0m\u001B[0;34m)\u001B[0m\u001B[0;34m\u001B[0m\u001B[0;34m\u001B[0m\u001B[0m\n\u001B[0m\u001B[1;32m     10\u001B[0m         \u001B[0mlaplacian_stack\u001B[0m\u001B[0;34m.\u001B[0m\u001B[0mappend\u001B[0m\u001B[0;34m(\u001B[0m\u001B[0mgaussian_stack\u001B[0m\u001B[0;34m[\u001B[0m\u001B[0;34m-\u001B[0m\u001B[0;36m2\u001B[0m\u001B[0;34m]\u001B[0m \u001B[0;34m-\u001B[0m \u001B[0mgaussian_stack\u001B[0m\u001B[0;34m[\u001B[0m\u001B[0;34m-\u001B[0m\u001B[0;36m1\u001B[0m\u001B[0;34m]\u001B[0m\u001B[0;34m)\u001B[0m\u001B[0;34m\u001B[0m\u001B[0;34m\u001B[0m\u001B[0m\n\u001B[1;32m     11\u001B[0m \u001B[0;34m\u001B[0m\u001B[0m\n",
      "\u001B[0;32m~/opt/anaconda3/lib/python3.9/site-packages/scipy/signal/_signaltools.py\u001B[0m in \u001B[0;36mconvolve\u001B[0;34m(in1, in2, mode, method)\u001B[0m\n\u001B[1;32m   1412\u001B[0m \u001B[0;34m\u001B[0m\u001B[0m\n\u001B[1;32m   1413\u001B[0m     \u001B[0;32mif\u001B[0m \u001B[0mmethod\u001B[0m \u001B[0;34m==\u001B[0m \u001B[0;34m'fft'\u001B[0m\u001B[0;34m:\u001B[0m\u001B[0;34m\u001B[0m\u001B[0;34m\u001B[0m\u001B[0m\n\u001B[0;32m-> 1414\u001B[0;31m         \u001B[0mout\u001B[0m \u001B[0;34m=\u001B[0m \u001B[0mfftconvolve\u001B[0m\u001B[0;34m(\u001B[0m\u001B[0mvolume\u001B[0m\u001B[0;34m,\u001B[0m \u001B[0mkernel\u001B[0m\u001B[0;34m,\u001B[0m \u001B[0mmode\u001B[0m\u001B[0;34m=\u001B[0m\u001B[0mmode\u001B[0m\u001B[0;34m)\u001B[0m\u001B[0;34m\u001B[0m\u001B[0;34m\u001B[0m\u001B[0m\n\u001B[0m\u001B[1;32m   1415\u001B[0m         \u001B[0mresult_type\u001B[0m \u001B[0;34m=\u001B[0m \u001B[0mnp\u001B[0m\u001B[0;34m.\u001B[0m\u001B[0mresult_type\u001B[0m\u001B[0;34m(\u001B[0m\u001B[0mvolume\u001B[0m\u001B[0;34m,\u001B[0m \u001B[0mkernel\u001B[0m\u001B[0;34m)\u001B[0m\u001B[0;34m\u001B[0m\u001B[0;34m\u001B[0m\u001B[0m\n\u001B[1;32m   1416\u001B[0m         \u001B[0;32mif\u001B[0m \u001B[0mresult_type\u001B[0m\u001B[0;34m.\u001B[0m\u001B[0mkind\u001B[0m \u001B[0;32min\u001B[0m \u001B[0;34m{\u001B[0m\u001B[0;34m'u'\u001B[0m\u001B[0;34m,\u001B[0m \u001B[0;34m'i'\u001B[0m\u001B[0;34m}\u001B[0m\u001B[0;34m:\u001B[0m\u001B[0;34m\u001B[0m\u001B[0;34m\u001B[0m\u001B[0m\n",
      "\u001B[0;32m~/opt/anaconda3/lib/python3.9/site-packages/scipy/signal/_signaltools.py\u001B[0m in \u001B[0;36mfftconvolve\u001B[0;34m(in1, in2, mode, axes)\u001B[0m\n\u001B[1;32m    668\u001B[0m              for i in range(in1.ndim)]\n\u001B[1;32m    669\u001B[0m \u001B[0;34m\u001B[0m\u001B[0m\n\u001B[0;32m--> 670\u001B[0;31m     \u001B[0mret\u001B[0m \u001B[0;34m=\u001B[0m \u001B[0m_freq_domain_conv\u001B[0m\u001B[0;34m(\u001B[0m\u001B[0min1\u001B[0m\u001B[0;34m,\u001B[0m \u001B[0min2\u001B[0m\u001B[0;34m,\u001B[0m \u001B[0maxes\u001B[0m\u001B[0;34m,\u001B[0m \u001B[0mshape\u001B[0m\u001B[0;34m,\u001B[0m \u001B[0mcalc_fast_len\u001B[0m\u001B[0;34m=\u001B[0m\u001B[0;32mTrue\u001B[0m\u001B[0;34m)\u001B[0m\u001B[0;34m\u001B[0m\u001B[0;34m\u001B[0m\u001B[0m\n\u001B[0m\u001B[1;32m    671\u001B[0m \u001B[0;34m\u001B[0m\u001B[0m\n\u001B[1;32m    672\u001B[0m     \u001B[0;32mreturn\u001B[0m \u001B[0m_apply_conv_mode\u001B[0m\u001B[0;34m(\u001B[0m\u001B[0mret\u001B[0m\u001B[0;34m,\u001B[0m \u001B[0ms1\u001B[0m\u001B[0;34m,\u001B[0m \u001B[0ms2\u001B[0m\u001B[0;34m,\u001B[0m \u001B[0mmode\u001B[0m\u001B[0;34m,\u001B[0m \u001B[0maxes\u001B[0m\u001B[0;34m)\u001B[0m\u001B[0;34m\u001B[0m\u001B[0;34m\u001B[0m\u001B[0m\n",
      "\u001B[0;32m~/opt/anaconda3/lib/python3.9/site-packages/scipy/signal/_signaltools.py\u001B[0m in \u001B[0;36m_freq_domain_conv\u001B[0;34m(in1, in2, axes, shape, calc_fast_len)\u001B[0m\n\u001B[1;32m    505\u001B[0m         \u001B[0mfft\u001B[0m\u001B[0;34m,\u001B[0m \u001B[0mifft\u001B[0m \u001B[0;34m=\u001B[0m \u001B[0msp_fft\u001B[0m\u001B[0;34m.\u001B[0m\u001B[0mfftn\u001B[0m\u001B[0;34m,\u001B[0m \u001B[0msp_fft\u001B[0m\u001B[0;34m.\u001B[0m\u001B[0mifftn\u001B[0m\u001B[0;34m\u001B[0m\u001B[0;34m\u001B[0m\u001B[0m\n\u001B[1;32m    506\u001B[0m \u001B[0;34m\u001B[0m\u001B[0m\n\u001B[0;32m--> 507\u001B[0;31m     \u001B[0msp1\u001B[0m \u001B[0;34m=\u001B[0m \u001B[0mfft\u001B[0m\u001B[0;34m(\u001B[0m\u001B[0min1\u001B[0m\u001B[0;34m,\u001B[0m \u001B[0mfshape\u001B[0m\u001B[0;34m,\u001B[0m \u001B[0maxes\u001B[0m\u001B[0;34m=\u001B[0m\u001B[0maxes\u001B[0m\u001B[0;34m)\u001B[0m\u001B[0;34m\u001B[0m\u001B[0;34m\u001B[0m\u001B[0m\n\u001B[0m\u001B[1;32m    508\u001B[0m     \u001B[0msp2\u001B[0m \u001B[0;34m=\u001B[0m \u001B[0mfft\u001B[0m\u001B[0;34m(\u001B[0m\u001B[0min2\u001B[0m\u001B[0;34m,\u001B[0m \u001B[0mfshape\u001B[0m\u001B[0;34m,\u001B[0m \u001B[0maxes\u001B[0m\u001B[0;34m=\u001B[0m\u001B[0maxes\u001B[0m\u001B[0;34m)\u001B[0m\u001B[0;34m\u001B[0m\u001B[0;34m\u001B[0m\u001B[0m\n\u001B[1;32m    509\u001B[0m \u001B[0;34m\u001B[0m\u001B[0m\n",
      "\u001B[0;32m~/opt/anaconda3/lib/python3.9/site-packages/scipy/fft/_backend.py\u001B[0m in \u001B[0;36m__ua_function__\u001B[0;34m(method, args, kwargs)\u001B[0m\n\u001B[1;32m     23\u001B[0m         \u001B[0;32mif\u001B[0m \u001B[0mfn\u001B[0m \u001B[0;32mis\u001B[0m \u001B[0;32mNone\u001B[0m\u001B[0;34m:\u001B[0m\u001B[0;34m\u001B[0m\u001B[0;34m\u001B[0m\u001B[0m\n\u001B[1;32m     24\u001B[0m             \u001B[0;32mreturn\u001B[0m \u001B[0mNotImplemented\u001B[0m\u001B[0;34m\u001B[0m\u001B[0;34m\u001B[0m\u001B[0m\n\u001B[0;32m---> 25\u001B[0;31m         \u001B[0;32mreturn\u001B[0m \u001B[0mfn\u001B[0m\u001B[0;34m(\u001B[0m\u001B[0;34m*\u001B[0m\u001B[0margs\u001B[0m\u001B[0;34m,\u001B[0m \u001B[0;34m**\u001B[0m\u001B[0mkwargs\u001B[0m\u001B[0;34m)\u001B[0m\u001B[0;34m\u001B[0m\u001B[0;34m\u001B[0m\u001B[0m\n\u001B[0m\u001B[1;32m     26\u001B[0m \u001B[0;34m\u001B[0m\u001B[0m\n\u001B[1;32m     27\u001B[0m \u001B[0;34m\u001B[0m\u001B[0m\n",
      "\u001B[0;32m~/opt/anaconda3/lib/python3.9/site-packages/scipy/fft/_pocketfft/basic.py\u001B[0m in \u001B[0;36mr2cn\u001B[0;34m(forward, x, s, axes, norm, overwrite_x, workers, plan)\u001B[0m\n\u001B[1;32m    221\u001B[0m \u001B[0;34m\u001B[0m\u001B[0m\n\u001B[1;32m    222\u001B[0m     \u001B[0;31m# Note: overwrite_x is not utilized\u001B[0m\u001B[0;34m\u001B[0m\u001B[0;34m\u001B[0m\u001B[0m\n\u001B[0;32m--> 223\u001B[0;31m     \u001B[0;32mreturn\u001B[0m \u001B[0mpfft\u001B[0m\u001B[0;34m.\u001B[0m\u001B[0mr2c\u001B[0m\u001B[0;34m(\u001B[0m\u001B[0mtmp\u001B[0m\u001B[0;34m,\u001B[0m \u001B[0maxes\u001B[0m\u001B[0;34m,\u001B[0m \u001B[0mforward\u001B[0m\u001B[0;34m,\u001B[0m \u001B[0mnorm\u001B[0m\u001B[0;34m,\u001B[0m \u001B[0;32mNone\u001B[0m\u001B[0;34m,\u001B[0m \u001B[0mworkers\u001B[0m\u001B[0;34m)\u001B[0m\u001B[0;34m\u001B[0m\u001B[0;34m\u001B[0m\u001B[0m\n\u001B[0m\u001B[1;32m    224\u001B[0m \u001B[0;34m\u001B[0m\u001B[0m\n\u001B[1;32m    225\u001B[0m \u001B[0;34m\u001B[0m\u001B[0m\n",
      "\u001B[0;31mKeyboardInterrupt\u001B[0m: "
     ]
    }
   ],
   "source": [
    "g, l = gaussian_and_laplacian_stack(baby2)"
   ],
   "metadata": {
    "collapsed": false,
    "pycharm": {
     "name": "#%%\n"
    }
   }
  },
  {
   "cell_type": "markdown",
   "source": [
    "# Part 2. Temporal Filtering"
   ],
   "metadata": {
    "collapsed": false
   }
  },
  {
   "cell_type": "code",
   "execution_count": null,
   "outputs": [],
   "source": [
    "def global_tone_map(im: torch.Tensor):\n",
    "    return im / (1 + im)"
   ],
   "metadata": {
    "collapsed": false,
    "pycharm": {
     "name": "#%%\n"
    }
   }
  },
  {
   "cell_type": "code",
   "execution_count": null,
   "outputs": [],
   "source": [
    "global_im = global_tone_map(E)\n",
    "\n",
    "plt.imshow(global_im)\n",
    "plt.show()"
   ],
   "metadata": {
    "collapsed": false,
    "pycharm": {
     "name": "#%%\n"
    }
   }
  },
  {
   "cell_type": "code",
   "execution_count": null,
   "outputs": [],
   "source": [
    "def local_tone_map(im: torch.Tensor, dR: float=5.):\n",
    "    intensity = torch.mean(im, dim=-1, keepdim=True)\n",
    "    chrominance = im / intensity\n",
    "    L = torch.log(intensity)\n",
    "    B = torch.tensor(cv2.bilateralFilter(L.numpy(), 60, 240, 120))[:, :, None]\n",
    "    B_ = -dR * im_rescale(-B)\n",
    "    O = torch.exp((L - B) + B_)\n",
    "    return im_saturate((chrominance * O) ** 0.5)\n",
    "\n",
    "def adaptive_histogram(im: torch.Tensor, clipLimit: float=2., tileGridSize: Sequence[int]=(5, 5)):\n",
    "    im = sk.img_as_ubyte(im)\n",
    "    clahe = cv2.createCLAHE(clipLimit=clipLimit, tileGridSize=tileGridSize)\n",
    "    return torch.tensor(sk.img_as_float(torch.stack([torch.tensor(clahe.apply(im[:, :, c])) for c in range(3)], dim=-1)))"
   ],
   "metadata": {
    "collapsed": false,
    "pycharm": {
     "name": "#%%\n"
    }
   }
  },
  {
   "cell_type": "code",
   "execution_count": null,
   "outputs": [],
   "source": [
    "def hdr(ims: torch.Tensor, dts: torch.Tensor) -> Dict[str, torch.Tensor]:\n",
    "    g, E = radiance_map(ims, dts)\n",
    "    global_im = global_tone_map(E)\n",
    "    return {\n",
    "        'radiance_map': global_im,\n",
    "        'g': g,\n",
    "        'im': adaptive_histogram(global_im)\n",
    "    }"
   ],
   "metadata": {
    "collapsed": false,
    "pycharm": {
     "name": "#%%\n"
    }
   }
  },
  {
   "cell_type": "code",
   "execution_count": null,
   "outputs": [],
   "source": [
    "skio.imshow(sk.img_as_ubyte(hdr(ims, dts)['im']))\n",
    "skio.show()"
   ],
   "metadata": {
    "collapsed": false,
    "pycharm": {
     "name": "#%%\n"
    }
   }
  },
  {
   "cell_type": "code",
   "execution_count": null,
   "outputs": [],
   "source": [
    "def save_result(ims: torch.Tensor, dts: torch.Tensor, name: str):\n",
    "    hdr_result = hdr(ims, dts)\n",
    "\n",
    "    stacked_ims = torch.cat([\n",
    "        torch.cat([ims[0], ims[1]], dim=1),\n",
    "        torch.cat([ims[2], torch.IntTensor(sk.img_as_ubyte(hdr_result['im']))], dim=1)\n",
    "    ], dim=0)\n",
    "\n",
    "    skio.imsave(f'../images/{name}_radiance_map.png', sk.img_as_ubyte(hdr_result['radiance_map']))\n",
    "\n",
    "    plt.plot(hdr_result['g'][0], color='red')\n",
    "    plt.plot(hdr_result['g'][1], color='blue')\n",
    "    plt.plot(hdr_result['g'][2], color='green')\n",
    "    plt.title('Exposure Map')\n",
    "    plt.axis('on')\n",
    "    plt.savefig(f'../images/{name}_exposure_map.png', bbox_inches='tight', pad_inches=0)\n",
    "    plt.show()\n",
    "\n",
    "    skio.imsave(f'../images/{name}_hdr.png', sk.img_as_ubyte(stacked_ims))\n",
    "    plt.imshow(stacked_ims.numpy())\n",
    "    plt.axis('off')\n",
    "    plt.show()"
   ],
   "metadata": {
    "collapsed": false,
    "pycharm": {
     "name": "#%%\n"
    }
   }
  },
  {
   "cell_type": "code",
   "execution_count": null,
   "outputs": [],
   "source": [
    "save_result(ims, dts, 'memorial')"
   ],
   "metadata": {
    "collapsed": false,
    "pycharm": {
     "name": "#%%\n"
    }
   }
  },
  {
   "cell_type": "code",
   "execution_count": null,
   "outputs": [],
   "source": [
    "plt.rcParams['figure.figsize'] = (20.0, 20.0)\n",
    "\n",
    "names = {\n",
    "    'data/Train0000_0210': [3, 51, 112, 193],\n",
    "    'data/Train0211_0420': [291, 343],\n",
    "    'data/Train0421_0625': [466, 575]\n",
    "}\n",
    "for dir_name, nums in names.items():\n",
    "    for i in nums:\n",
    "        s = str(i).zfill(4)\n",
    "        ims = torch.stack([\n",
    "            read_image(f'{dir_name}/{s}_short.png'),\n",
    "            read_image(f'{dir_name}/{s}_medium.png'),\n",
    "            read_image(f'{dir_name}/{s}_long.png')\n",
    "        ])\n",
    "        print(s)\n",
    "        dts = torch.pow(2, torch.FloatTensor(np.load(f'{dir_name}/{s}_exposures.npy')))\n",
    "        save_result(ims, dts, s)"
   ],
   "metadata": {
    "collapsed": false,
    "pycharm": {
     "name": "#%%\n"
    }
   }
  },
  {
   "cell_type": "code",
   "execution_count": null,
   "outputs": [],
   "source": [
    "for dir_name, nums in names.items():\n",
    "    str_nums = {str(i).zfill(4) for i in nums}\n",
    "    for fname in os.listdir(dir_name):\n",
    "        if fname[:4] not in str_nums:\n",
    "            os.remove(f'{dir_name}/{fname}')"
   ],
   "metadata": {
    "collapsed": false,
    "pycharm": {
     "name": "#%%\n"
    }
   }
  },
  {
   "cell_type": "code",
   "execution_count": null,
   "outputs": [],
   "source": [],
   "metadata": {
    "collapsed": false,
    "pycharm": {
     "name": "#%%\n"
    }
   }
  }
 ],
 "metadata": {
  "accelerator": "GPU",
  "colab": {
   "machine_shape": "hm",
   "provenance": [],
   "gpuType": "V100"
  },
  "kernelspec": {
   "display_name": "Python 3",
   "name": "python3"
  },
  "language_info": {
   "name": "python"
  }
 },
 "nbformat": 4,
 "nbformat_minor": 0
}